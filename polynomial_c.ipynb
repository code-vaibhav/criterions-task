{
  "nbformat": 4,
  "nbformat_minor": 0,
  "metadata": {
    "colab": {
      "name": "polynomial_c.ipynb",
      "provenance": [],
      "collapsed_sections": []
    },
    "kernelspec": {
      "name": "python3",
      "display_name": "Python 3"
    },
    "language_info": {
      "name": "python"
    }
  },
  "cells": [
    {
      "cell_type": "code",
      "metadata": {
        "id": "-5sXqk8E-F5J"
      },
      "source": [
        "import numpy as np\n",
        "import pandas as pd\n",
        "import matplotlib.pyplot as plt"
      ],
      "execution_count": null,
      "outputs": []
    },
    {
      "cell_type": "markdown",
      "metadata": {
        "id": "8UXlXq0hAPkL"
      },
      "source": [
        "# Making dataset"
      ]
    },
    {
      "cell_type": "code",
      "metadata": {
        "colab": {
          "base_uri": "https://localhost:8080/",
          "height": 299
        },
        "id": "MMMPQfQI--v_",
        "outputId": "336a6699-18f9-46d5-e028-719db87b2037"
      },
      "source": [
        "np.random.seed(2)\n",
        "x = np.random.rand(1000)\n",
        "\n",
        "y = 3*x*x + 6*x + 13\n",
        "y = y + np.random.normal(0, 0.3, y.shape)\n",
        "\n",
        "plt.scatter(x, y)\n",
        "plt.title('data plot')"
      ],
      "execution_count": null,
      "outputs": [
        {
          "output_type": "execute_result",
          "data": {
            "text/plain": [
              "Text(0.5, 1.0, 'data plot')"
            ]
          },
          "metadata": {},
          "execution_count": 53
        },
        {
          "output_type": "display_data",
          "data": {
            "image/png": "[encoded data removed]",
            "text/plain": [
              "<Figure size 432x288 with 1 Axes>"
            ]
          },
          "metadata": {
            "needs_background": "light"
          }
        }
      ]
    },
    {
      "cell_type": "markdown",
      "metadata": {
        "id": "5QgukhZgATVZ"
      },
      "source": [
        "# Model"
      ]
    },
    {
      "cell_type": "code",
      "metadata": {
        "id": "1AFngKEF_IyU"
      },
      "source": [
        "def loss(y, y_pred):\n",
        "  return np.sum(y-y_pred)**4 / len(y)\n",
        "\n",
        "def model(x, y, alpha):\n",
        "  np.random.seed(2)\n",
        "  th = np.random.rand(3)\n",
        "  losses = []\n",
        "  dth = np.zeros(3)\n",
        "  \n",
        "  for i in range(10000):\n",
        "    y_pred = th[2]*x*x + th[1]*x + th[0]\n",
        "    losses.append(loss(y, y_pred))\n",
        "    \n",
        "    dth[2] = (-4 / len(y)) * np.sum(np.multiply((y - y_pred)**3, x**2))\n",
        "    dth[1] = (-4 / len(y)) * np.sum(np.multiply((y - y_pred)**3, x))\n",
        "    dth[0] = (-4 / len(y)) * np.sum((y - y_pred)**3)\n",
        "    for i in range(3):\n",
        "      th[i] -= alpha*dth[i]\n",
        "\n",
        "  return th, losses"
      ],
      "execution_count": null,
      "outputs": []
    },
    {
      "cell_type": "markdown",
      "metadata": {
        "id": "3Rq_LeIUFQLH"
      },
      "source": [
        "# Analysis"
      ]
    },
    {
      "cell_type": "code",
      "metadata": {
        "colab": {
          "base_uri": "https://localhost:8080/",
          "height": 299
        },
        "id": "bSy_N4tfB0OU",
        "outputId": "3cbf62f1-364a-41cc-bbb2-2a280cceab14"
      },
      "source": [
        "coeffs, losses = model(x, y, 0.0011)\n",
        "\n",
        "figure, axis = plt.subplots(1, 2)\n",
        "\n",
        "axis[0].plot(range(10000), losses)\n",
        "axis[0].set_title('loss funtion')\n",
        "\n",
        "y_pred = coeffs[2]*x*x + coeffs[1]*x + coeffs[0]\n",
        "axis[1].scatter(x, y)\n",
        "axis[1].plot(x, y_pred, color='red')\n",
        "axis[1].set_title('curve fitting')\n",
        "\n",
        "print('loss: ', loss(y, y_pred))"
      ],
      "execution_count": null,
      "outputs": [
        {
          "output_type": "stream",
          "text": [
            "loss:  37.93362252179748\n"
          ],
          "name": "stdout"
        },
        {
          "output_type": "display_data",
          "data": {
            "image/png": "[encoded data removed]",
            "text/plain": [
              "<Figure size 432x288 with 2 Axes>"
            ]
          },
          "metadata": {
            "needs_background": "light"
          }
        }
      ]
    }
  ]
}