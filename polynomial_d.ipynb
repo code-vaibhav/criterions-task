{
  "nbformat": 4,
  "nbformat_minor": 0,
  "metadata": {
    "colab": {
      "name": "polynomial_d.ipynb",
      "provenance": []
    },
    "kernelspec": {
      "name": "python3",
      "display_name": "Python 3"
    },
    "language_info": {
      "name": "python"
    }
  },
  "cells": [
    {
      "cell_type": "code",
      "metadata": {
        "id": "VP02Q38MFPy2"
      },
      "source": [
        "import numpy as np\n",
        "import pandas as pd\n",
        "import matplotlib.pyplot as plt"
      ],
      "execution_count": null,
      "outputs": []
    },
    {
      "cell_type": "markdown",
      "metadata": {
        "id": "s8AnSUA5GkZY"
      },
      "source": [
        "# Making dataset"
      ]
    },
    {
      "cell_type": "code",
      "metadata": {
        "colab": {
          "base_uri": "https://localhost:8080/",
          "height": 299
        },
        "id": "Mqkb7nDaFT6D",
        "outputId": "a6851537-c7c9-4308-8219-d66adaab9ce0"
      },
      "source": [
        "np.random.seed(2)\n",
        "x = np.random.rand(1000)\n",
        "\n",
        "y = 3*x*x + 6*x + 13\n",
        "y = y + np.random.normal(0, 0.3, y.shape)\n",
        "\n",
        "plt.scatter(x, y)\n",
        "plt.title('data plot')"
      ],
      "execution_count": null,
      "outputs": [
        {
          "output_type": "execute_result",
          "data": {
            "text/plain": [
              "Text(0.5, 1.0, 'data plot')"
            ]
          },
          "metadata": {},
          "execution_count": 24
        },
        {
          "output_type": "display_data",
          "data": {
            "image/png": "[encoded data removed]",
            "text/plain": [
              "<Figure size 432x288 with 1 Axes>"
            ]
          },
          "metadata": {
            "needs_background": "light"
          }
        }
      ]
    },
    {
      "cell_type": "markdown",
      "metadata": {
        "id": "5O4l3zYvGopf"
      },
      "source": [
        "# Model"
      ]
    },
    {
      "cell_type": "code",
      "metadata": {
        "id": "I6AYJTVwFXnJ"
      },
      "source": [
        "def loss(y, y_pred):\n",
        "  return np.sum(y-y_pred)**7 / len(y)\n",
        "\n",
        "def model(x, y, alpha):\n",
        "  np.random.seed(2)\n",
        "  th = np.random.rand(3)\n",
        "  losses = []\n",
        "  dth = np.zeros(3)\n",
        "  \n",
        "  for i in range(50000):\n",
        "    y_pred = th[2]*x*x + th[1]*x + th[0]\n",
        "    losses.append(loss(y, y_pred))\n",
        "    \n",
        "    dth[2] = (-7 / len(y)) * np.sum(np.multiply((y - y_pred)**6, x**2))\n",
        "    dth[1] = (-7 / len(y)) * np.sum(np.multiply((y - y_pred)**6, x))\n",
        "    dth[0] = (-7 / len(y)) * np.sum((y - y_pred)**6)\n",
        "    for i in range(3):\n",
        "      th[i] -= alpha*dth[i]\n",
        "\n",
        "  return th, losses"
      ],
      "execution_count": null,
      "outputs": []
    },
    {
      "cell_type": "markdown",
      "metadata": {
        "id": "DtY1HNE0GrBX"
      },
      "source": [
        "# Analysis"
      ]
    },
    {
      "cell_type": "code",
      "metadata": {
        "colab": {
          "base_uri": "https://localhost:8080/",
          "height": 299
        },
        "id": "hFJRSsWTFZx4",
        "outputId": "790b4ec9-82a8-49ae-f6a6-15aa289fa653"
      },
      "source": [
        "coeffs, losses = model(x, y, 5.6*(10**-8))\n",
        "\n",
        "figure, axis = plt.subplots(1, 2)\n",
        "\n",
        "axis[0].plot(range(50000), losses)\n",
        "axis[0].set_title('loss funtion')\n",
        "\n",
        "y_pred = coeffs[2]*x*x + coeffs[1]*x + coeffs[0]\n",
        "axis[1].scatter(x, y)\n",
        "axis[1].plot(x, y_pred, color='red')\n",
        "axis[1].set_title('curve fitting')\n",
        "\n",
        "print('loss: ', loss(y, y_pred))"
      ],
      "execution_count": null,
      "outputs": [
        {
          "output_type": "stream",
          "text": [
            "loss:  106393089.71124716\n"
          ],
          "name": "stdout"
        },
        {
          "output_type": "display_data",
          "data": {
            "image/png": "[encoded data removed]",
            "text/plain": [
              "<Figure size 432x288 with 2 Axes>"
            ]
          },
          "metadata": {
            "needs_background": "light"
          }
        }
      ]
    }
  ]
}